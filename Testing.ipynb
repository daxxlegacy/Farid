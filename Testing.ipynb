import os 
import numpy  
import keras 
import cv2 
import matplotlib.pyplot as plt 
%matplotlib inline 
from keras.models import load_model  
model = load_model('model_final.h5')  
model.summary() 
from keras import models  
from keras import layers  
from keras import optimizers 
model.compile(loss='categorical_crossentropy',  
              optimizer=optimizers.RMSprop(learning_rate=1e-4),  
              metrics=['acc']) 
img3 = cv2.imread('C:/Users/ASUS/Desktop/Datasets/train/MildDemented/mildDem0.jpg')  
img3 = cv2.cvtColor(img3, cv2.COLOR_BGR2RGB) 
img3 = cv2.resize(img3,(224,224))  
img4 = numpy.reshape(img3,[1,224,224,3])  
plt.imshow(img3) 
plt.show() 
 
disease = model.predict(img4)  
prediction = numpy.where(disease[0] == max(disease[0])) 
mapping = numpy.array(['MildDemented', 'ModerateDemented', 'NonDemented', 'VeryMildDemented']) 
prediction_name = mapping[prediction][0] 
print(prediction_name)
 
